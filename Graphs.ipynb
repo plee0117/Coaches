{
 "cells": [
  {
   "cell_type": "code",
   "execution_count": null,
   "metadata": {},
   "outputs": [],
   "source": [
    "import re\n",
    "import pandas as pd\n",
    "import numpy as np\n",
    "import matplotlib.pyplot as plt\n",
    "import seaborn as sns\n",
    "import scipy.stats as st"
   ]
  },
  {
   "cell_type": "code",
   "execution_count": null,
   "metadata": {},
   "outputs": [],
   "source": [
    "coaches = pd.read_csv('combined.csv')\n",
    "bengals = pd.read_csv('bengals.csv')"
   ]
  },
  {
   "cell_type": "code",
   "execution_count": null,
   "metadata": {},
   "outputs": [],
   "source": [
    "ly=coaches.groupby(['name','level']).agg({'year':'count'})\n",
    "ly_piv=ly.reset_index().pivot(index = 'name',columns = 'level',values='year')[['Coordinator','Head','Positional']]"
   ]
  },
  {
   "cell_type": "code",
   "execution_count": null,
   "metadata": {},
   "outputs": [],
   "source": [
    "level_record = coaches[['name','level']].drop_duplicates()"
   ]
  },
  {
   "cell_type": "code",
   "execution_count": null,
   "metadata": {},
   "outputs": [],
   "source": [
    "level_record = coaches[['name','level']].drop_duplicates()\n",
    "level_record_only = (coaches.groupby(['name','level']).agg(sum).win/\n",
    "                      (coaches.groupby(['name','level']).agg(sum).win + \n",
    "                       coaches.groupby(['name','level']).agg(sum).loss)).to_frame(name='wl')\n",
    "lp = pd.merge(level_record,level_record_only,how='left',on = ['name','level'])\n",
    "lp_pivot = lp.pivot(index='name',columns='level',values='wl')[['Coordinator','Head','Positional']]"
   ]
  },
  {
   "cell_type": "code",
   "execution_count": null,
   "metadata": {},
   "outputs": [],
   "source": [
    "lyp = pd.merge(ly,lp,how='inner',on = ['name','level'])\n",
    "lyp_piv = lyp.pivot(index = 'name', columns = 'level')"
   ]
  },
  {
   "cell_type": "code",
   "execution_count": null,
   "metadata": {
    "scrolled": true
   },
   "outputs": [],
   "source": [
    "byyr = (coaches.groupby(['year','phase']).agg({'name':'count'}).name/coaches.groupby('year').agg({'team':'nunique'}).team).to_frame(name='avg coaches').reset_index()\n",
    "byyr_piv = byyr.pivot(index='year',columns = 'phase')['avg coaches'][['Defense','Offense','Special Teams']]"
   ]
  },
  {
   "cell_type": "code",
   "execution_count": null,
   "metadata": {},
   "outputs": [],
   "source": [
    "cbbyyr = bengals.groupby(['year','phase']).agg({'name':'count'}).rename(columns = {'name':'coaches'}).reset_index()\n",
    "cbbyyr_piv = cbbyyr.pivot(index='year',columns = 'phase')['coaches'][['Defense','Offense','Special Teams']]\n",
    "allyr_piv = pd.merge(cbbyyr_piv,byyr_piv,how='right',on=['year'],suffixes=({'_bengals','_nfl'}))"
   ]
  },
  {
   "cell_type": "code",
   "execution_count": null,
   "metadata": {
    "scrolled": true
   },
   "outputs": [],
   "source": [
    "coach_by_yr = coaches.groupby(['year','team','phase']).agg({'name':'count'}).rename(columns={'name':'coaches'}).reset_index()\n",
    "cbym = coach_by_yr.groupby(['year','phase']).agg({'coaches':'mean'}).rename(columns={'coaches':'mean'}).reset_index()\n",
    "cbystd= coach_by_yr.groupby(['year','phase']).agg({'coaches':'std'}).rename(columns={'coaches':'std'}).reset_index()\n",
    "tcby=pd.merge(pd.merge(cbbyyr,cbym,how = 'inner',on=['year','phase']),cbystd,how='inner',on=['year','phase'])\n",
    "tcby['z']=(tcby['coaches']-tcby['mean'])/tcby['std']\n",
    "tcby['p']=st.norm.cdf(tcby['z'])"
   ]
  },
  {
   "cell_type": "code",
   "execution_count": null,
   "metadata": {},
   "outputs": [],
   "source": [
    "head_g = coaches[coaches.level == 'Head'].groupby(['name','team','level'])\n",
    "head_wl = head_g.agg({'year':'count','win':'sum','loss':'sum'})\n",
    "head3_ct = head_wl.loc[head_wl.year>2]\n",
    "head3_ct['wl']=head_wl.win/(head_wl.win+head_wl.loss)\n",
    "head3_ct = head3_ct.reset_index().rename(columns = {'year':'season'})[['name','team','wl','season']]\n",
    "head3_yr = coaches[coaches.level =='Head'].groupby(['name','team','level']).agg({'year':'min'}).reset_index().rename(columns={'year':'debut'})\n",
    "head3 = pd.merge(head3_ct,head3_yr,how = 'inner',on = ['name','team'])\n"
   ]
  },
  {
   "cell_type": "code",
   "execution_count": null,
   "metadata": {},
   "outputs": [],
   "source": [
    "past3_m = pd.merge(head3,coaches,how='inner',on='name',suffixes=('_h','_p'))\n",
    "past3_m = past3_m.loc[(past3_m.year<past3_m.debut) & (past3_m.year>past3_m.debut-4)].sort_values('year')\n",
    "past3 = past3_m.groupby(['name','team_h','debut']).agg({'win':'sum','loss':'sum','position':'first',\n",
    "                                                        'phase':'first','level_p':'first','team_p':'first'})\n",
    "past3['wl_p']=past3.win/(past3.win+past3.loss)\n",
    "past3 = past3.reset_index().rename(columns={'team_h':'team'}).drop(columns=['win','loss'])\n",
    "hp3 = pd.merge(head3,past3,how='right',on=['name','team','debut'])"
   ]
  },
  {
   "cell_type": "code",
   "execution_count": null,
   "metadata": {},
   "outputs": [],
   "source": [
    "# relationship = dict()\n",
    "# names = sorted(coaches.name.dropna().unique())\n",
    "# for name in names:\n",
    "#     related = related_to(name)\n",
    "#     relationship[name] = related\n",
    "\n",
    "\n",
    "def related_to(name):\n",
    "    beenhere = coaches.loc[coaches.name == name][['team','year']]\n",
    "    beenhere.reset_index(inplace =True)\n",
    "    firsthand = set()\n",
    "    for teamyear in range(len(beenhere)):\n",
    "        (i,j) = beenhere.loc[teamyear,['team','year']]\n",
    "        [firsthand.add(person) for person in coaches.loc[(coaches.team == i)&(coaches.year==j)].name.tolist()]\n",
    "    firsthand.remove(name)\n",
    "    return firsthand \n",
    "\n",
    "def worked_at(name_list):\n",
    "    timespace = set()\n",
    "    for name in name_list:\n",
    "        beenhere = coaches.loc[coaches.name == name][['team','year']]\n",
    "        beenhere.reset_index(inplace = True)\n",
    "        for teamyear in range(len(beenhere)):\n",
    "            (i,j) = beenhere.loc[teamyear,['team','year']]\n",
    "            timespace.add((i,j))\n",
    "    return timespace"
   ]
  },
  {
   "cell_type": "code",
   "execution_count": null,
   "metadata": {},
   "outputs": [],
   "source": [
    "def are_related(kevin, bacon, degree = None):\n",
    "    newset=set()\n",
    "    subt=set()\n",
    "\n",
    "    if degree!=None:\n",
    "        deglen=len(degree)\n",
    "\n",
    "        degree=degree + [set()]\n",
    "        timeyr = worked_at(degree[deglen-1])\n",
    "        for (i,j) in timeyr:\n",
    "            [newset.add(person) for person in coaches.loc[(coaches.team == i)&(coaches.year==j)].name.tolist()]\n",
    "\n",
    "            if bacon in newset:\n",
    "                print(deglen)\n",
    "                print(i,' ',j)\n",
    "#                 print(type(degree))\n",
    "                return deglen\n",
    "            else:\n",
    "                degree[deglen] = degree[deglen]|newset\n",
    "#                 print(len(newset), ' ',i,' ',j)\n",
    "                newset=set()\n",
    "            \n",
    "\n",
    "        for i in range(0,deglen):\n",
    "            subt = subt|degree[i]\n",
    "\n",
    "        newset= newset-subt\n",
    "        if newset== None:\n",
    "            return 'No Connection'\n",
    "\n",
    "        are_related(kevin, bacon, degree)\n",
    "    else:\n",
    "        deglen = 0\n",
    "        if kevin == bacon:\n",
    "            return deglen\n",
    "        else:\n",
    "            degree = [{kevin}]\n",
    "            deglen = are_related(kevin, bacon, degree)\n",
    "            return deglen\n",
    "\n",
    "\n"
   ]
  },
  {
   "cell_type": "code",
   "execution_count": null,
   "metadata": {},
   "outputs": [],
   "source": []
  },
  {
   "cell_type": "code",
   "execution_count": null,
   "metadata": {},
   "outputs": [],
   "source": []
  },
  {
   "cell_type": "code",
   "execution_count": null,
   "metadata": {},
   "outputs": [],
   "source": []
  },
  {
   "cell_type": "code",
   "execution_count": null,
   "metadata": {},
   "outputs": [],
   "source": []
  },
  {
   "cell_type": "code",
   "execution_count": null,
   "metadata": {},
   "outputs": [],
   "source": []
  },
  {
   "cell_type": "code",
   "execution_count": null,
   "metadata": {},
   "outputs": [],
   "source": []
  },
  {
   "cell_type": "code",
   "execution_count": null,
   "metadata": {},
   "outputs": [],
   "source": []
  },
  {
   "cell_type": "code",
   "execution_count": null,
   "metadata": {},
   "outputs": [],
   "source": []
  },
  {
   "cell_type": "markdown",
   "metadata": {},
   "source": [
    "# NFL Coaches\n",
    "\n",
    "Sources:  wikipedia.com, pro-football-reference.com\n",
    "\n",
    "Additionally:  gb.packers.com, bengals.com"
   ]
  },
  {
   "cell_type": "code",
   "execution_count": null,
   "metadata": {},
   "outputs": [],
   "source": []
  },
  {
   "cell_type": "markdown",
   "metadata": {},
   "source": [
    "### Phases of Game\n",
    "\n",
    "##### Offense\n",
    "\n",
    "##### Defense\n",
    "\n",
    "##### Special Teams"
   ]
  },
  {
   "cell_type": "code",
   "execution_count": null,
   "metadata": {},
   "outputs": [],
   "source": []
  },
  {
   "cell_type": "markdown",
   "metadata": {},
   "source": [
    "### Levels of Coaching\n",
    "\n",
    "##### Head Coach\n",
    "\n",
    "##### Coordinator: Offensive/Defensive Coordinators, Assistant/Associate Head Coach, Special Teams Coach\n",
    "\n",
    "##### Positional Coaches: includes groups of positions e.g. Secondary Coach, Offensive Line Coach\n"
   ]
  },
  {
   "cell_type": "code",
   "execution_count": null,
   "metadata": {},
   "outputs": [],
   "source": []
  },
  {
   "cell_type": "markdown",
   "metadata": {},
   "source": [
    "## Coaches by Year"
   ]
  },
  {
   "cell_type": "code",
   "execution_count": null,
   "metadata": {
    "scrolled": false
   },
   "outputs": [],
   "source": [
    "plt.figure(figsize=(15,8))\n",
    "no_coach = sns.lineplot(data=allyr_piv, linewidth=2.5)\n",
    "no_coach.set(xlabel='Year', ylabel='Coaches/Team')\n",
    "no_coach.set_title('Coaches per Team')\n",
    "plt.show()"
   ]
  },
  {
   "cell_type": "code",
   "execution_count": null,
   "metadata": {},
   "outputs": [],
   "source": [
    "tcby.loc[(tcby.p>0.95) | (tcby.p < 0.05)]"
   ]
  },
  {
   "cell_type": "code",
   "execution_count": null,
   "metadata": {
    "scrolled": true
   },
   "outputs": [],
   "source": [
    "lyp.groupby('level').agg({'name':'count','year':['mean','median'],'wl':['mean','median']})"
   ]
  },
  {
   "cell_type": "code",
   "execution_count": null,
   "metadata": {},
   "outputs": [],
   "source": []
  },
  {
   "cell_type": "markdown",
   "metadata": {},
   "source": [
    "## Years in Levels of Coaching"
   ]
  },
  {
   "cell_type": "markdown",
   "metadata": {},
   "source": [
    "#### Coordinator vs Positional"
   ]
  },
  {
   "cell_type": "code",
   "execution_count": null,
   "metadata": {},
   "outputs": [],
   "source": [
    "\n",
    "sns.set(style=\"white\")\n",
    "cvp_yr = sns.jointplot(x='Positional', y='Coordinator', data= ly_piv, kind = 'hexa')\n",
    "cvp_yr.set_axis_labels(xlabel='Positional Coaching Years', ylabel='Coordinator Years')\n",
    "plt.show()"
   ]
  },
  {
   "cell_type": "markdown",
   "metadata": {},
   "source": [
    "#### Head Coach vs Coordinator"
   ]
  },
  {
   "cell_type": "code",
   "execution_count": null,
   "metadata": {},
   "outputs": [],
   "source": [
    "hvc_yr = sns.jointplot(x='Coordinator', y='Head', data= ly_piv)\n",
    "hvc_yr.set_axis_labels(xlabel='Coordinator Coaching Years', ylabel='Head Coaching Years')\n",
    "plt.show()"
   ]
  },
  {
   "cell_type": "markdown",
   "metadata": {},
   "source": [
    "#### Head Coach vs Positional"
   ]
  },
  {
   "cell_type": "code",
   "execution_count": null,
   "metadata": {},
   "outputs": [],
   "source": [
    "hvp_yr = sns.jointplot(x='Positional', y='Head', data= ly_piv, kind = 'hexa')\n",
    "sns.set(style=\"white\")\n",
    "hvp_yr.set_axis_labels(xlabel = 'Positional Coaching Years', ylabel='Head Coaching Years')\n",
    "plt.show()"
   ]
  },
  {
   "cell_type": "code",
   "execution_count": null,
   "metadata": {},
   "outputs": [],
   "source": []
  },
  {
   "cell_type": "code",
   "execution_count": null,
   "metadata": {},
   "outputs": [],
   "source": []
  },
  {
   "cell_type": "markdown",
   "metadata": {},
   "source": [
    "## Longevity at each Level"
   ]
  },
  {
   "cell_type": "markdown",
   "metadata": {},
   "source": [
    "#### Positional Coach Year vs Winnig Ratio"
   ]
  },
  {
   "cell_type": "code",
   "execution_count": null,
   "metadata": {},
   "outputs": [],
   "source": [
    "wvy_pp = sns.jointplot(x=lyp_piv.wl.Positional, y=lyp_piv.year.Positional, kind = 'hexa',xlim=(0,1), color = 'coral')\n",
    "wvy_pp.set_axis_labels(xlabel = 'Positional Coaching W/L Ratios', ylabel='Positional Coaching Years')\n",
    "plt.show()"
   ]
  },
  {
   "cell_type": "markdown",
   "metadata": {},
   "source": [
    "#### Coordinator Year vs Winnig Ratio"
   ]
  },
  {
   "cell_type": "code",
   "execution_count": null,
   "metadata": {},
   "outputs": [],
   "source": [
    "wvy_cc = sns.jointplot(x=lyp_piv.wl.Coordinator, y=lyp_piv.year.Coordinator, kind = 'hexa',xlim=(0,1), color = 'coral')\n",
    "wvy_cc.set_axis_labels(xlabel = 'Coordinator Coaching W/L Ratios', ylabel='Coordinator Coaching Years')\n",
    "plt.show()"
   ]
  },
  {
   "cell_type": "markdown",
   "metadata": {},
   "source": [
    "#### Head Coach Year vs Winnig Ratio"
   ]
  },
  {
   "cell_type": "code",
   "execution_count": null,
   "metadata": {
    "scrolled": false
   },
   "outputs": [],
   "source": [
    "wvy_hh = sns.jointplot(x=lyp_piv.wl.Head, y=lyp_piv.year.Head, kind = 'hexa',xlim=(0,1), color = 'coral')\n",
    "wvy_hh.set_axis_labels(xlabel = 'Head Coaching W/L Ratios', ylabel='Head Coaching Years')\n",
    "plt.show()"
   ]
  },
  {
   "cell_type": "code",
   "execution_count": null,
   "metadata": {},
   "outputs": [],
   "source": []
  },
  {
   "cell_type": "code",
   "execution_count": null,
   "metadata": {},
   "outputs": [],
   "source": []
  },
  {
   "cell_type": "markdown",
   "metadata": {},
   "source": [
    "## Win Ratios"
   ]
  },
  {
   "cell_type": "markdown",
   "metadata": {},
   "source": [
    "#### Head Coach vs Coordinator"
   ]
  },
  {
   "cell_type": "code",
   "execution_count": null,
   "metadata": {},
   "outputs": [],
   "source": [
    "pvc_wl = sns.jointplot(x='Positional', y='Head', data= lp_pivot,kind = 'hexa',xlim=(0,1),ylim=(0,1))\n",
    "sns.set(style=\"white\")\n",
    "pvc_wl.set_axis_labels(xlabel = 'Coordinator Coaching W/L Ratios', ylabel='Head Coaching W/L Ratios')\n",
    "plt.show()"
   ]
  },
  {
   "cell_type": "markdown",
   "metadata": {},
   "source": [
    "#### Head Coach vs Positional Coach"
   ]
  },
  {
   "cell_type": "code",
   "execution_count": null,
   "metadata": {},
   "outputs": [],
   "source": [
    "cvp_wl = sns.jointplot(x='Positional', y='Coordinator', data= lp_pivot,kind = 'hexa',xlim=(0,1),ylim=(0,1))\n",
    "cvp_wl.set_axis_labels(xlabel = 'Positional Coaching W/L Ratios', ylabel='Head Coaching W/L Ratios')\n",
    "plt.show()"
   ]
  },
  {
   "cell_type": "markdown",
   "metadata": {},
   "source": [
    "#### Coordinator vs Positional Coach"
   ]
  },
  {
   "cell_type": "code",
   "execution_count": null,
   "metadata": {},
   "outputs": [],
   "source": [
    "cvp_yrwl = sns.scatterplot(x = lyp_piv.wl.Positional, y=lyp_piv.wl.Coordinator, size=lyp_piv.year.Positional, sizes = (8,500))\n",
    "cvp_yrwl.set(xlabel='Positional Coaching W/L Ratio', ylabel='Coordinator Coaching W/L Ratio',xlim=(0,1),ylim=(0,1))\n",
    "cvp_yrwl.set_title('Positional Coach to Coordinator')\n",
    "plt.show()"
   ]
  },
  {
   "cell_type": "code",
   "execution_count": null,
   "metadata": {},
   "outputs": [],
   "source": []
  },
  {
   "cell_type": "code",
   "execution_count": null,
   "metadata": {},
   "outputs": [],
   "source": []
  },
  {
   "cell_type": "markdown",
   "metadata": {},
   "source": [
    "## Debuts"
   ]
  },
  {
   "cell_type": "code",
   "execution_count": null,
   "metadata": {},
   "outputs": [],
   "source": [
    "print('Coaches lasting for 3 or more years: ', len(head3))"
   ]
  },
  {
   "cell_type": "code",
   "execution_count": null,
   "metadata": {
    "scrolled": true
   },
   "outputs": [],
   "source": [
    "print('Also worked in NFL for 3 or more years immediately prior: ',len(hp3))"
   ]
  },
  {
   "cell_type": "code",
   "execution_count": null,
   "metadata": {},
   "outputs": [],
   "source": [
    "hp3_wl = sns.jointplot(x='wl_p', y='wl', data= hp3)\n",
    "hp3_wl.set_axis_labels(xlabel = 'Previous Coaching W/L Ratios', ylabel='Head Coaching W/L Ratios')\n",
    "plt.show()"
   ]
  },
  {
   "cell_type": "code",
   "execution_count": null,
   "metadata": {},
   "outputs": [],
   "source": [
    "hp3_wl = sns.jointplot(x='wl_p', y='wl', data= hp3.loc[hp3.team==hp3.team_p])\n",
    "hp3_wl.set_axis_labels(xlabel = 'Previous Coaching W/L Ratios', ylabel='Head Coaching W/L Ratios')\n",
    "plt.show()"
   ]
  },
  {
   "cell_type": "code",
   "execution_count": null,
   "metadata": {},
   "outputs": [],
   "source": [
    "hp3_wl = sns.jointplot(x='wl_p', y='wl', data= hp3.loc[hp3.wl>=0.5])\n",
    "hp3_wl.set_axis_labels(xlabel = 'Previous Coaching W/L Ratios', ylabel='Head Coaching W/L Ratios')\n",
    "plt.show()"
   ]
  },
  {
   "cell_type": "code",
   "execution_count": null,
   "metadata": {},
   "outputs": [],
   "source": []
  },
  {
   "cell_type": "code",
   "execution_count": null,
   "metadata": {},
   "outputs": [],
   "source": []
  },
  {
   "cell_type": "markdown",
   "metadata": {},
   "source": [
    "## Further Studies\n",
    "\n",
    "### Study Effects of Phase background\n",
    "\n",
    "### Trace coaches from college level\n",
    "\n",
    "### Genealogy\n"
   ]
  },
  {
   "cell_type": "code",
   "execution_count": null,
   "metadata": {},
   "outputs": [],
   "source": []
  },
  {
   "cell_type": "code",
   "execution_count": null,
   "metadata": {},
   "outputs": [],
   "source": []
  },
  {
   "cell_type": "markdown",
   "metadata": {},
   "source": [
    "## Erdo Number"
   ]
  },
  {
   "cell_type": "code",
   "execution_count": null,
   "metadata": {},
   "outputs": [],
   "source": [
    "are_related('Adam Gase','Andy Reid')"
   ]
  },
  {
   "cell_type": "code",
   "execution_count": null,
   "metadata": {},
   "outputs": [],
   "source": [
    "(person1,person2) = coaches['name'].sample(2)\n",
    "print(person1)\n",
    "print(person2)\n",
    "are_related(person1,person2)"
   ]
  },
  {
   "cell_type": "code",
   "execution_count": null,
   "metadata": {},
   "outputs": [],
   "source": []
  },
  {
   "cell_type": "code",
   "execution_count": null,
   "metadata": {},
   "outputs": [],
   "source": []
  },
  {
   "cell_type": "code",
   "execution_count": null,
   "metadata": {},
   "outputs": [],
   "source": []
  }
 ],
 "metadata": {
  "kernelspec": {
   "display_name": "Python 3",
   "language": "python",
   "name": "python3"
  },
  "language_info": {
   "codemirror_mode": {
    "name": "ipython",
    "version": 3
   },
   "file_extension": ".py",
   "mimetype": "text/x-python",
   "name": "python",
   "nbconvert_exporter": "python",
   "pygments_lexer": "ipython3",
   "version": "3.7.3"
  }
 },
 "nbformat": 4,
 "nbformat_minor": 2
}
